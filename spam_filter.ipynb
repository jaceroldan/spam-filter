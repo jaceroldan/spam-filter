{
 "cells": [
  {
   "cell_type": "markdown",
   "id": "b53fc686",
   "metadata": {},
   "source": [
    "# Spam Filter\n",
    "\n",
    "This is an implementation of a Spam Filter using a Naïve Bayes classifier."
   ]
  },
  {
   "cell_type": "code",
   "execution_count": 1,
   "id": "db3eb5b6",
   "metadata": {},
   "outputs": [],
   "source": [
    "import os\n",
    "import re\n",
    "import csv\n",
    "import random\n",
    "import matplotlib.pyplot as plt"
   ]
  },
  {
   "cell_type": "code",
   "execution_count": 2,
   "id": "8b323675",
   "metadata": {},
   "outputs": [],
   "source": [
    "master_vocabulary = []\n",
    "ham_line_paths = []\n",
    "spam_line_paths = []\n",
    "with open('./labels', 'r') as file:\n",
    "    for line in file.readlines():\n",
    "        if re.match(r'ham', line):\n",
    "            ham_line_paths.append(line)\n",
    "        elif re.match(r'spam', line):\n",
    "            spam_line_paths.append(line)"
   ]
  },
  {
   "cell_type": "code",
   "execution_count": 3,
   "id": "bf08464b",
   "metadata": {},
   "outputs": [],
   "source": [
    "def write_word_vectors(filename, line_paths, classification, master_vocabulary):\n",
    "    full_vocabulary = {}\n",
    "    full_file_vocabs = []\n",
    "    with open(filename, 'w', newline='') as csvfile:\n",
    "        writer = csv.writer(csvfile, delimiter=',')\n",
    "        for line_path in line_paths:\n",
    "            path = os.path.join(os.getcwd(), re.sub(r'{} \\.\\.\\/'.format(classification), '', line_path)).strip()\n",
    "            with open(path, 'rb') as file:\n",
    "                file_vocab = {'[[file_path]]': line_path.strip()}\n",
    "\n",
    "                for line in file.readlines():\n",
    "                    try:\n",
    "                        split_words = re.findall(r'[A-Za-z]+', line.decode('utf-8'))\n",
    "                    except UnicodeDecodeError:\n",
    "                        continue\n",
    "                    for w in split_words:\n",
    "                        if full_vocabulary.get(w.lower(), None):\n",
    "                            full_vocabulary[w.lower()] += 1\n",
    "                        else:\n",
    "                            full_vocabulary[w.lower()] = 1\n",
    "\n",
    "                        if file_vocab.get(w.lower(), None):\n",
    "                            file_vocab[w.lower()] += 1\n",
    "                        else:\n",
    "                            file_vocab[w.lower()] = 1\n",
    "                        master_vocabulary.append(w)\n",
    "                full_file_vocabs.append(file_vocab)\n",
    "        print('vocabulary sorted!')\n",
    "    \n",
    "    return full_vocabulary, full_file_vocabs, list(set(master_vocabulary))"
   ]
  },
  {
   "cell_type": "code",
   "execution_count": 4,
   "id": "aae4cb8a",
   "metadata": {},
   "outputs": [
    {
     "name": "stdout",
     "output_type": "stream",
     "text": [
      "vocabulary sorted!\n",
      "2130014\n"
     ]
    }
   ],
   "source": [
    "ham_vocabulary, ham_file_vocabs, master_vocabulary = write_word_vectors('hamvectors.csv', ham_line_paths, 'ham', master_vocabulary)\n",
    "print(len(ham_vocabulary.values()))\n",
    "ham_full = [*ham_file_vocabs]"
   ]
  },
  {
   "cell_type": "code",
   "execution_count": 5,
   "id": "37bbfaa4",
   "metadata": {},
   "outputs": [
    {
     "name": "stdout",
     "output_type": "stream",
     "text": [
      "vocabulary sorted!\n",
      "260921\n"
     ]
    }
   ],
   "source": [
    "spam_vocabulary, spam_file_vocabs, master_vocabulary = write_word_vectors('spamvectors.csv', spam_line_paths, 'spam', master_vocabulary)\n",
    "print(len(spam_vocabulary.values()))\n",
    "spam_full = [*spam_file_vocabs]"
   ]
  },
  {
   "cell_type": "code",
   "execution_count": 6,
   "id": "a1b94310",
   "metadata": {},
   "outputs": [],
   "source": [
    "def take_split(dataset, training_percentage):\n",
    "    dataset_length = len(dataset)\n",
    "    sample_count = (dataset_length * (training_percentage / 100)) // 1\n",
    "    training_sample = []\n",
    "\n",
    "    while sample_count > 0:\n",
    "        current_index = random.randint(0, len(dataset) - 1)\n",
    "        training_sample.append(dataset[current_index])\n",
    "        del dataset[current_index]\n",
    "        sample_count -= 1\n",
    "\n",
    "    return training_sample, dataset"
   ]
  },
  {
   "cell_type": "code",
   "execution_count": 7,
   "id": "0b6c235e",
   "metadata": {},
   "outputs": [
    {
     "name": "stdout",
     "output_type": "stream",
     "text": [
      "12910\n",
      "9037 3873\n",
      "24912\n",
      "17438 7474\n"
     ]
    }
   ],
   "source": [
    "# Split into 70% training and 30% test set\n",
    "ham_training, ham_test = take_split(ham_full, 70)\n",
    "print(len(ham_file_vocabs))\n",
    "print(len(ham_training), len(ham_test))\n",
    "\n",
    "spam_training, spam_test = take_split(spam_full, 70)\n",
    "print(len(spam_file_vocabs))\n",
    "print(len(spam_training), len(spam_test))"
   ]
  },
  {
   "cell_type": "code",
   "execution_count": 8,
   "id": "10e92e01",
   "metadata": {},
   "outputs": [
    {
     "name": "stdout",
     "output_type": "stream",
     "text": [
      "prior probabilities for Spam and Ham: \n",
      "ham class:  9037 / 26475\n",
      "spam class:  17438  /  26475\n"
     ]
    }
   ],
   "source": [
    "print('prior probabilities for Spam and Ham: ')\n",
    "print('ham class: ', len(ham_training), '/', len(ham_training) + len(spam_training))\n",
    "print('spam class: ', len(spam_training),  ' / ', len(ham_training) + len(spam_training))"
   ]
  },
  {
   "cell_type": "code",
   "execution_count": 9,
   "id": "018c8673",
   "metadata": {},
   "outputs": [],
   "source": [
    "# We only care about how many times this word occurred across different document Ds\n",
    "rebuilt_ham_vocabulary_probabilities = {}\n",
    "for item in ham_training:\n",
    "    for word in item:\n",
    "        if rebuilt_ham_vocabulary_probabilities.get(word, None):\n",
    "            rebuilt_ham_vocabulary_probabilities[word] += 1\n",
    "        else:\n",
    "            rebuilt_ham_vocabulary_probabilities[word] = 1\n",
    "\n",
    "for key in rebuilt_ham_vocabulary_probabilities.keys():\n",
    "    rebuilt_ham_vocabulary_probabilities[key] = (rebuilt_ham_vocabulary_probabilities[key] + 1) / (len(ham_training) + len(master_vocabulary))\n",
    "    \n",
    "ham_vocabulary_size = len(rebuilt_ham_vocabulary_probabilities.keys())\n",
    "\n",
    "rebuilt_spam_vocabulary_probabilities = {}\n",
    "for item in spam_training:\n",
    "    for word in item:\n",
    "        if rebuilt_spam_vocabulary_probabilities.get(word, None):\n",
    "            rebuilt_spam_vocabulary_probabilities[word] += 1\n",
    "        else:\n",
    "            rebuilt_spam_vocabulary_probabilities[word] = 1\n",
    "\n",
    "for key in rebuilt_spam_vocabulary_probabilities:\n",
    "    rebuilt_spam_vocabulary_probabilities[key] = (rebuilt_spam_vocabulary_probabilities[key] + 1) / (len(spam_training) + len(master_vocabulary))\n",
    "\n",
    "spam_vocabulary_size = len(rebuilt_spam_vocabulary_probabilities.keys())\n",
    "\n",
    "full_vocabulary_size = len(set(list(rebuilt_ham_vocabulary_probabilities.keys()) + list(rebuilt_spam_vocabulary_probabilities.keys())))"
   ]
  },
  {
   "cell_type": "code",
   "execution_count": 10,
   "id": "5a767439",
   "metadata": {},
   "outputs": [],
   "source": [
    "\n",
    "def apply_to_test(test_set, ham_training, spam_training, lamb):\n",
    "    classified_as_ham = 0\n",
    "    classified_as_spam = 0\n",
    "    for item in test_set:\n",
    "        ham_probability = len(ham_training) / (len(ham_training) + len(ham_test))\n",
    "        spam_probability = len(spam_training) / (len(spam_training) + len(spam_test))\n",
    "\n",
    "        ham_default = 1 / (len(ham_training) + lamb * len(ham_training))\n",
    "        spam_default = 1 / (len(spam_training) + lamb * len(spam_training))\n",
    "        for word in item.keys():\n",
    "            ham_component = rebuilt_ham_vocabulary_probabilities.get(word)\n",
    "            spam_component = rebuilt_spam_vocabulary_probabilities.get(word)\n",
    "            ham_percent = ham_component if ham_component else ham_default\n",
    "            spam_percent = spam_component if spam_component else spam_default\n",
    "\n",
    "            if ham_probability * ham_percent == 0:\n",
    "                break\n",
    "            if spam_probability * spam_percent == 0:\n",
    "                break\n",
    "            ham_probability *= ham_percent\n",
    "            spam_probability *= spam_percent\n",
    "\n",
    "        if ham_probability > spam_probability:\n",
    "            classified_as_ham += 1\n",
    "        else:\n",
    "            classified_as_spam += 1\n",
    "\n",
    "    return classified_as_ham, classified_as_spam"
   ]
  },
  {
   "cell_type": "code",
   "execution_count": 11,
   "id": "60399e3c",
   "metadata": {},
   "outputs": [
    {
     "name": "stdout",
     "output_type": "stream",
     "text": [
      "Classified ham (TN):  1769 / 3873\n",
      "Classified spam (FP):  2104 / 3873\n",
      "Classified ham (FN):  168 / 7474\n",
      "Classified spam (TP):  7306 / 7474\n"
     ]
    }
   ],
   "source": [
    "classified_as_ham = 0\n",
    "classified_as_spam = 0\n",
    "\n",
    "classified_as_ham, classified_as_spam = apply_to_test(ham_test, ham_training, spam_training, 1)\n",
    "print('Classified ham (TN): ', classified_as_ham, '/', len(ham_test))\n",
    "tn_l1 = classified_as_ham\n",
    "print('Classified spam (FP): ', classified_as_spam, '/', len(ham_test))\n",
    "fp_l1 = classified_as_spam\n",
    "\n",
    "classified_as_ham, classified_as_spam = apply_to_test(spam_test, ham_training, spam_training, 1)\n",
    "print('Classified ham (FN): ', classified_as_ham, '/', len(spam_test))\n",
    "fn_l1 = classified_as_ham\n",
    "print('Classified spam (TP): ', classified_as_spam, '/', len(spam_test))\n",
    "tp_l1 = classified_as_spam"
   ]
  },
  {
   "cell_type": "code",
   "execution_count": 12,
   "id": "c7f4828b",
   "metadata": {},
   "outputs": [
    {
     "name": "stdout",
     "output_type": "stream",
     "text": [
      "precision:  0.7764080765143464\n",
      "recall:  0.9775220765319775\n"
     ]
    }
   ],
   "source": [
    "precision_l1 = tp_l1 / (tp_l1 + fp_l1)\n",
    "recall_l1 = tp_l1 / (tp_l1 + fn_l1)\n",
    "print('precision: ', precision_l1)\n",
    "print('recall: ', recall_l1)"
   ]
  },
  {
   "cell_type": "markdown",
   "id": "9fd301e9",
   "metadata": {},
   "source": [
    "# Lambda Smoothing tests\n",
    "\n",
    "We will now be applying different values of lambda into different runs of our classifier to measure differences in precision and recall."
   ]
  },
  {
   "cell_type": "markdown",
   "id": "bd580afe",
   "metadata": {},
   "source": [
    "## At λ = 1"
   ]
  },
  {
   "cell_type": "code",
   "execution_count": 13,
   "id": "11a98b11",
   "metadata": {},
   "outputs": [
    {
     "name": "stdout",
     "output_type": "stream",
     "text": [
      "Classified ham (TN):  1769 / 3873\n",
      "Classified spam (FP):  2104 / 3873\n",
      "Classified ham (FN):  168 / 7474\n",
      "Classified spam (TP):  7306 / 7474\n",
      "precision:  0.7764080765143464\n",
      "recall:  0.9775220765319775\n"
     ]
    }
   ],
   "source": [
    "classified_as_ham = 0\n",
    "classified_as_spam = 0\n",
    "\n",
    "classified_as_ham, classified_as_spam = apply_to_test(ham_test, ham_training, spam_training, lamb=1)\n",
    "print('Classified ham (TN): ', classified_as_ham, '/', len(ham_test))\n",
    "tn_l1 = classified_as_ham\n",
    "print('Classified spam (FP): ', classified_as_spam, '/', len(ham_test))\n",
    "fp_l1 = classified_as_spam\n",
    "\n",
    "classified_as_ham, classified_as_spam = apply_to_test(spam_test, ham_training, spam_training, lamb=1)\n",
    "print('Classified ham (FN): ', classified_as_ham, '/', len(spam_test))\n",
    "fn_l1 = classified_as_ham\n",
    "print('Classified spam (TP): ', classified_as_spam, '/', len(spam_test))\n",
    "tp_l1 = classified_as_spam\n",
    "\n",
    "precision_l1 = tp_l1 / (tp_l1 + fp_l1)\n",
    "recall_l1 = tp_l1 / (tp_l1 + fn_l1)\n",
    "print('precision: ', precision_l1)\n",
    "print('recall: ', recall_l1)"
   ]
  },
  {
   "cell_type": "markdown",
   "id": "ab57ac3f",
   "metadata": {},
   "source": [
    "## At λ = 2"
   ]
  },
  {
   "cell_type": "code",
   "execution_count": 14,
   "id": "4e1b19b0",
   "metadata": {
    "scrolled": false
   },
   "outputs": [
    {
     "name": "stdout",
     "output_type": "stream",
     "text": [
      "Classified ham (TN):  1917 / 3873\n",
      "Classified spam (FP):  1956 / 3873\n",
      "Classified ham (FN):  108 / 7474\n",
      "Classified spam (TP):  7366 / 7474\n",
      "precision:  0.790173782450118\n",
      "recall:  0.9855499063419856\n"
     ]
    }
   ],
   "source": [
    "classified_as_ham = 0\n",
    "classified_as_spam = 0\n",
    "\n",
    "classified_as_ham, classified_as_spam = apply_to_test(ham_test, ham_training, spam_training, lamb=2)\n",
    "print('Classified ham (TN): ', classified_as_ham, '/', len(ham_test))\n",
    "tn_l2 = classified_as_ham\n",
    "print('Classified spam (FP): ', classified_as_spam, '/', len(ham_test))\n",
    "fp_l2 = classified_as_spam\n",
    "\n",
    "classified_as_ham, classified_as_spam = apply_to_test(spam_test, ham_training, spam_training, lamb=2)\n",
    "print('Classified ham (FN): ', classified_as_ham, '/', len(spam_test))\n",
    "fn_l2 = classified_as_ham\n",
    "print('Classified spam (TP): ', classified_as_spam, '/', len(spam_test))\n",
    "tp_l2 = classified_as_spam\n",
    "\n",
    "precision_l2 = tp_l2 / (tp_l2 + fp_l2)\n",
    "recall_l2 = tp_l2 / (tp_l2 + fn_l2)\n",
    "print('precision: ', precision_l2)\n",
    "print('recall: ', recall_l2)"
   ]
  },
  {
   "cell_type": "markdown",
   "id": "78c01ba0",
   "metadata": {},
   "source": [
    "## At λ = 0.5"
   ]
  },
  {
   "cell_type": "code",
   "execution_count": 15,
   "id": "0d7be71f",
   "metadata": {
    "scrolled": true
   },
   "outputs": [
    {
     "name": "stdout",
     "output_type": "stream",
     "text": [
      "Classified ham (TN):  1642 / 3873\n",
      "Classified spam (FP):  2231 / 3873\n",
      "Classified ham (FN):  223 / 7474\n",
      "Classified spam (TP):  7251 / 7474\n",
      "precision:  0.7647120860577937\n",
      "recall:  0.9701632325394701\n"
     ]
    }
   ],
   "source": [
    "classified_as_ham = 0\n",
    "classified_as_spam = 0\n",
    "\n",
    "classified_as_ham, classified_as_spam = apply_to_test(ham_test, ham_training, spam_training, lamb=0.5)\n",
    "print('Classified ham (TN): ', classified_as_ham, '/', len(ham_test))\n",
    "tn_l3 = classified_as_ham\n",
    "print('Classified spam (FP): ', classified_as_spam, '/', len(ham_test))\n",
    "fp_l3 = classified_as_spam\n",
    "\n",
    "classified_as_ham, classified_as_spam = apply_to_test(spam_test, ham_training, spam_training, lamb=0.5)\n",
    "print('Classified ham (FN): ', classified_as_ham, '/', len(spam_test))\n",
    "fn_l3 = classified_as_ham\n",
    "print('Classified spam (TP): ', classified_as_spam, '/', len(spam_test))\n",
    "tp_l3 = classified_as_spam\n",
    "\n",
    "precision_l3 =  tp_l3 / (tp_l3 + fp_l3)\n",
    "recall_l3 = tp_l3 / (tp_l3 + fn_l3)\n",
    "print('precision: ', precision_l3)\n",
    "print('recall: ', recall_l3)"
   ]
  },
  {
   "cell_type": "markdown",
   "id": "fc47f455",
   "metadata": {},
   "source": [
    "## At λ = 0.1"
   ]
  },
  {
   "cell_type": "code",
   "execution_count": 16,
   "id": "e802cea9",
   "metadata": {
    "scrolled": true
   },
   "outputs": [
    {
     "name": "stdout",
     "output_type": "stream",
     "text": [
      "Classified ham (TN):  1504 / 3873\n",
      "Classified spam (FP):  2369 / 3873\n",
      "Classified ham (FN):  286 / 7474\n",
      "Classified spam (TP):  7188 / 7474\n",
      "precision:  0.7521188657528514\n",
      "recall:  0.9617340112389617\n"
     ]
    }
   ],
   "source": [
    "classified_as_ham = 0\n",
    "classified_as_spam = 0\n",
    "\n",
    "classified_as_ham, classified_as_spam = apply_to_test(ham_test, ham_training, spam_training, lamb=0.1)\n",
    "print('Classified ham (TN): ', classified_as_ham, '/', len(ham_test))\n",
    "tn_l4 = classified_as_ham\n",
    "print('Classified spam (FP): ', classified_as_spam, '/', len(ham_test))\n",
    "fp_l4 = classified_as_spam\n",
    "\n",
    "classified_as_ham, classified_as_spam = apply_to_test(spam_test, ham_training, spam_training, lamb=0.1)\n",
    "print('Classified ham (FN): ', classified_as_ham, '/', len(spam_test))\n",
    "fn_l4 = classified_as_ham\n",
    "print('Classified spam (TP): ', classified_as_spam, '/', len(spam_test))\n",
    "tp_l4 = classified_as_spam\n",
    "\n",
    "precision_l4 = tp_l4 / (tp_l4 + fp_l4)\n",
    "recall_l4 = tp_l4 / (tp_l4 + fn_l4)\n",
    "print('precision: ', precision_l4)\n",
    "print('recall: ', recall_l4)"
   ]
  },
  {
   "cell_type": "markdown",
   "id": "9a4695bd",
   "metadata": {},
   "source": [
    "## At λ = 0.005"
   ]
  },
  {
   "cell_type": "code",
   "execution_count": 17,
   "id": "fae81e69",
   "metadata": {
    "scrolled": true
   },
   "outputs": [
    {
     "name": "stdout",
     "output_type": "stream",
     "text": [
      "Classified ham (TN):  1468 / 3873\n",
      "Classified spam (FP):  2405 / 3873\n",
      "Classified ham (FN):  300 / 7474\n",
      "Classified spam (TP):  7174 / 7474\n",
      "precision:  0.7489299509343356\n",
      "recall:  0.9598608509499599\n"
     ]
    }
   ],
   "source": [
    "classified_as_ham = 0\n",
    "classified_as_spam = 0\n",
    "\n",
    "classified_as_ham, classified_as_spam = apply_to_test(ham_test, ham_training, spam_training, lamb=0.005)\n",
    "print('Classified ham (TN): ', classified_as_ham, '/', len(ham_test))\n",
    "tn_l5 = classified_as_ham\n",
    "print('Classified spam (FP): ', classified_as_spam, '/', len(ham_test))\n",
    "fp_l5 = classified_as_spam\n",
    "\n",
    "classified_as_ham, classified_as_spam = apply_to_test(spam_test, ham_training, spam_training, lamb=0.005)\n",
    "print('Classified ham (FN): ', classified_as_ham, '/', len(spam_test))\n",
    "fn_l5 = classified_as_ham\n",
    "print('Classified spam (TP): ', classified_as_spam, '/', len(spam_test))\n",
    "tp_l5 = classified_as_spam\n",
    "\n",
    "precision_l5 = tp_l5 / (tp_l5 + fp_l5)\n",
    "recall_l5 = tp_l5 / (tp_l5 + fn_l5)\n",
    "print('precision: ', precision_l5)\n",
    "print('recall: ', recall_l5)"
   ]
  },
  {
   "cell_type": "markdown",
   "id": "34c787b2",
   "metadata": {},
   "source": [
    "It seems that the value of lambda is directly proportional to the values of our precision and recall. The higher the value of lambda applied for smoothing, the greater the precision and recall."
   ]
  },
  {
   "cell_type": "code",
   "execution_count": 18,
   "id": "1d0a30ee",
   "metadata": {},
   "outputs": [],
   "source": [
    "# Example lambda values\n",
    "lambdas = [2, 1, 0.5, 0.1, 0.005]\n",
    "\n",
    "# Corresponding accuracy and precision scores for each lambda value\n",
    "# These are hypothetical values for demonstration purposes\n",
    "precision_scores = [precision_l1, precision_l2, precision_l2, precision_l4, precision_l5]\n",
    "recall_scores = [recall_l1, recall_l2, recall_l3, recall_l4, recall_l5]\n",
    "\n",
    "# Plotting\n",
    "plt.figure(figsize=(10, 6))\n",
    "plt.plot(lambdas, precision_scores, label='Precision', marker='x')\n",
    "plt.plot(lambdas, recall_scores, label='Accuracy', marker='o')\n",
    "\n",
    "# Adding titles and labels\n",
    "plt.title('Spam Filter Performance Metrics as Lambda Varies')\n",
    "plt.xlabel('Lambda')\n",
    "plt.ylabel('Scores')\n",
    "plt.legend()\n",
    "\n",
    "# Display the plot\n",
    "plt.show()\n"
   ]
  },
  {
   "cell_type": "markdown",
   "id": "a8823b8e",
   "metadata": {},
   "source": [
    "# Hovold's recommendation\n",
    "\n",
    "I will now attempt to rank the vocabulary through their mutual information. But before attempting to do that, I will have to remove the words that have only 1 occurrence in the vocabulary dataset."
   ]
  },
  {
   "cell_type": "code",
   "execution_count": 19,
   "id": "500b3b20",
   "metadata": {},
   "outputs": [
    {
     "name": "stdout",
     "output_type": "stream",
     "text": [
      "2627543\n",
      "113841\n"
     ]
    }
   ],
   "source": [
    "orig_len = len(master_vocabulary)\n",
    "print(orig_len)\n",
    "\n",
    "trimmed_list = []\n",
    "for i, word in enumerate(master_vocabulary):\n",
    "    if ham_vocabulary.get(word) and ham_vocabulary.get(word) >= 2:\n",
    "        trimmed_list.append(word)\n",
    "    elif spam_vocabulary.get(word) and spam_vocabulary.get(word) >= 2:\n",
    "        trimmed_list.append(word)\n",
    "\n",
    "print(len(trimmed_list))"
   ]
  },
  {
   "cell_type": "code",
   "execution_count": 20,
   "id": "2e35f1ec",
   "metadata": {},
   "outputs": [],
   "source": [
    "import math\n",
    "\n",
    "mi_scores = {}\n",
    "total_training_length = len(ham_training) + len(spam_training)\n",
    "full_vocab_length = len(trimmed_list)\n",
    "\n",
    "for i, word in enumerate(trimmed_list):\n",
    "    # word is present in document and document is ham\n",
    "    c1 = 0\n",
    "    # word is present and document is spam\n",
    "    c2 = 0\n",
    "    # word is not present and document is ham\n",
    "    c3 = 0\n",
    "    # word is not present and docuemnt is spam\n",
    "    c4 = 0\n",
    "    for hD in ham_training:\n",
    "        if hD.get(word):\n",
    "            c1 += 1 / total_training_length\n",
    "        else:\n",
    "            c3 += 1 / total_training_length\n",
    "    for sD in spam_training:\n",
    "        if sD.get(word):\n",
    "            c2 += 1 / total_training_length\n",
    "        else:\n",
    "            c4 += 1 / total_training_length\n",
    "    \n",
    "    prob1 = c1 * math.log(c1 / ((c1 + c2) * (c1 + c3))) if c1 > 0 else 0\n",
    "    prob2 = c2 * math.log(c2 / ((c1 + c2) * (c2 + c4))) if c2 > 0 else 0\n",
    "    prob3 = c3 * math.log(c3 / ((c3 + c4) * (c1 + c3))) if c3 > 0 else 0\n",
    "    prob4 = c4 * math.log(c4 / ((c3 + c4) * (c2 + c4))) if c4 > 0 else 0\n",
    "\n",
    "    mi_scores[word] = prob1 + prob2 + prob3 + prob4\n"
   ]
  },
  {
   "cell_type": "code",
   "execution_count": 21,
   "id": "f1d51ecc",
   "metadata": {},
   "outputs": [
    {
     "name": "stdout",
     "output_type": "stream",
     "text": [
      "200\n"
     ]
    }
   ],
   "source": [
    "# Retain only the top 200 words\n",
    "def keep_top_mi_scores(word_mi_dict, num_to_keep):\n",
    "    \"\"\"\n",
    "    Keep only the top 'num_to_keep' words based on their mutual information (MI) scores.\n",
    "\n",
    "    :param word_mi_dict: Dictionary with words as keys and MI scores as values.\n",
    "    :param num_to_keep: Number of words to retain from the top of the MI score list.\n",
    "    :return: A dictionary with the top 'num_to_keep' words.\n",
    "    \"\"\"\n",
    "\n",
    "    # Sort the dictionary by MI score in descending order and keep the top 'num_to_keep' words\n",
    "    top_dict = dict(sorted(word_mi_dict.items(), key=lambda item: item[1], reverse=True)[:num_to_keep])\n",
    "\n",
    "    return top_dict\n",
    "\n",
    "\n",
    "trimmed_list = keep_top_mi_scores(mi_scores, 200)\n",
    "print(len(trimmed_list))"
   ]
  },
  {
   "cell_type": "code",
   "execution_count": 22,
   "id": "96a4fc29",
   "metadata": {},
   "outputs": [
    {
     "name": "stdout",
     "output_type": "stream",
     "text": [
      "Classified ham (TN):  3140 / 3873\n",
      "Classified spam (FP):  733 / 3873\n",
      "Classified ham (FN):  134 / 7474\n",
      "Classified spam (TP):  7340 / 7474\n"
     ]
    }
   ],
   "source": [
    "\n",
    "\n",
    "def apply_to_test_with_vocabulary(test_set, ham_training, spam_training, lamb, full_vocabulary):\n",
    "    classified_as_ham = 0\n",
    "    classified_as_spam = 0\n",
    "    test_set_len = len(test_set)\n",
    "    for i, item in enumerate(test_set):\n",
    "        ham_probability = len(ham_training) / (len(ham_training) + len(ham_test))\n",
    "        spam_probability = len(spam_training) / (len(spam_training) + len(spam_test))\n",
    "\n",
    "        ham_default = 1 / (len(ham_training) + lamb * len(ham_training))\n",
    "        spam_default = 1 / (len(spam_training) + lamb * len(spam_training))\n",
    "        for word in item.keys():\n",
    "            # exclude words that were excluded in the ranking\n",
    "            if word in full_vocabulary:    \n",
    "                ham_component = rebuilt_ham_vocabulary_probabilities.get(word)\n",
    "                spam_component = rebuilt_spam_vocabulary_probabilities.get(word)\n",
    "                ham_percent = ham_component if ham_component else ham_default\n",
    "                spam_percent = spam_component if spam_component else spam_default\n",
    "\n",
    "                if ham_probability * ham_percent == 0:\n",
    "                    break\n",
    "                if spam_probability * spam_percent == 0:\n",
    "                    break\n",
    "                ham_probability *= ham_percent\n",
    "                spam_probability *= spam_percent\n",
    "\n",
    "        if ham_probability > spam_probability:\n",
    "            classified_as_ham += 1\n",
    "        else:\n",
    "            classified_as_spam += 1\n",
    "\n",
    "    return classified_as_ham, classified_as_spam\n",
    "\n",
    "\n",
    "classified_as_ham = 0\n",
    "classified_as_spam = 0\n",
    "\n",
    "classified_as_ham, classified_as_spam = apply_to_test_with_vocabulary(ham_test, ham_training, spam_training, 1, trimmed_list)\n",
    "print('Classified ham (TN): ', classified_as_ham, '/', len(ham_test))\n",
    "tn_l6 = classified_as_ham\n",
    "print('Classified spam (FP): ', classified_as_spam, '/', len(ham_test))\n",
    "fp_l6 = classified_as_spam\n",
    "\n",
    "classified_as_ham, classified_as_spam = apply_to_test_with_vocabulary(spam_test, ham_training, spam_training, 1, trimmed_list)\n",
    "print('Classified ham (FN): ', classified_as_ham, '/', len(spam_test))\n",
    "fn_l6 = classified_as_ham\n",
    "print('Classified spam (TP): ', classified_as_spam, '/', len(spam_test))\n",
    "tp_l6 = classified_as_spam"
   ]
  },
  {
   "cell_type": "markdown",
   "id": "747c6bd3",
   "metadata": {},
   "source": [
    "Look at the precision and recall of this classifier given the lower vocabulary count."
   ]
  },
  {
   "cell_type": "code",
   "execution_count": 23,
   "id": "aa78246f",
   "metadata": {},
   "outputs": [
    {
     "name": "stdout",
     "output_type": "stream",
     "text": [
      "Classified ham (TN):  3140\n",
      "Classified spam (FP):  733\n",
      "Classified ham (FN):  134\n",
      "Classified spam (TP):  7340\n",
      "precision:  0.9092035178991701\n",
      "recall:  0.982071180090982\n"
     ]
    }
   ],
   "source": [
    "print('Classified ham (TN): ', tn_l6)\n",
    "print('Classified spam (FP): ', fp_l6)\n",
    "print('Classified ham (FN): ', fn_l6)\n",
    "print('Classified spam (TP): ', tp_l6)\n",
    "print('precision: ', tp_l6 / (tp_l6 + fp_l6))\n",
    "print('recall: ', tp_l6 / (tp_l6 + fn_l6))"
   ]
  },
  {
   "cell_type": "code",
   "execution_count": 24,
   "id": "a2906b9c",
   "metadata": {},
   "outputs": [
    {
     "data": {
      "image/png": "[encoded data removed]",
      "text/plain": [
       "<Figure size 1000x600 with 1 Axes>"
      ]
     },
     "metadata": {},
     "output_type": "display_data"
    }
   ],
   "source": [
    "# Example lambda values\n",
    "lambdas = [2, 1, 0.5, 0.1, 0.005]\n",
    "\n",
    "# Corresponding accuracy and precision scores for each lambda value\n",
    "# These are hypothetical values for demonstration purposes\n",
    "precision_scores = [precision_l1, precision_l2, precision_l2, precision_l4, precision_l5]\n",
    "recall_scores = [recall_l1, recall_l2, recall_l3, recall_l4, recall_l5]\n",
    "\n",
    "# Plotting\n",
    "plt.figure(figsize=(10, 6))\n",
    "plt.plot(lambdas, precision_scores, label='Precision', marker='x')\n",
    "plt.plot(lambdas, recall_scores, label='Accuracy', marker='o')\n",
    "\n",
    "# Adding titles and labels\n",
    "plt.title('Spam Filter Performance Metrics as Lambda Varies')\n",
    "plt.xlabel('Lambda')\n",
    "plt.ylabel('Scores')\n",
    "plt.legend()\n",
    "\n",
    "# Display the plot\n",
    "plt.show()\n"
   ]
  }
 ],
 "metadata": {
  "kernelspec": {
   "display_name": "Python 3 (ipykernel)",
   "language": "python",
   "name": "python3"
  },
  "language_info": {
   "codemirror_mode": {
    "name": "ipython",
    "version": 3
   },
   "file_extension": ".py",
   "mimetype": "text/x-python",
   "name": "python",
   "nbconvert_exporter": "python",
   "pygments_lexer": "ipython3",
   "version": "3.10.7"
  }
 },
 "nbformat": 4,
 "nbformat_minor": 5
}
