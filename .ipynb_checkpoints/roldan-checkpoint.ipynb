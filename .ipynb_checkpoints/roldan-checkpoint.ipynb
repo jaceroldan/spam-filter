{
 "cells": [
  {
   "cell_type": "code",
   "execution_count": null,
   "id": "618e083d",
   "metadata": {},
   "outputs": [],
   "source": [
    "import os\n",
    "import re\n",
    "import csv"
   ]
  },
  {
   "cell_type": "code",
   "execution_count": null,
   "id": "6978521b",
   "metadata": {},
   "outputs": [],
   "source": [
    "ham_line_paths = []\n",
    "spam_line_paths = []\n",
    "with open('./labels', 'r') as file:\n",
    "    for line in file.readlines():\n",
    "        if re.match(r'ham', line):\n",
    "            ham_line_paths.append(line)\n",
    "        elif re.match(r'spam', line):\n",
    "            spam_line_paths.append(line)"
   ]
  },
  {
   "cell_type": "code",
   "execution_count": null,
   "id": "5fe94f18",
   "metadata": {},
   "outputs": [],
   "source": [
    "def write_word_vectors(filename, line_paths, classification):\n",
    "    full_vocabulary = {}\n",
    "    full_file_vocabs = []\n",
    "    with open(filename, 'w', newline='') as csvfile:\n",
    "        writer = csv.writer(csvfile, delimiter=',')\n",
    "        for line_path in line_paths:\n",
    "            with open(os.path.join(os.getcwd(), re.sub(r'{} \\.\\.\\/'.format(classification), '', line_path)).strip(), 'rb') as file:\n",
    "                file_vocab = {'[[file_path]]': line_path.strip()}\n",
    "\n",
    "                for line in file.readlines():\n",
    "                    try:\n",
    "                        split_words = re.findall(r'^[A-Za-z]+$', line.decode('utf-8'))\n",
    "                    except UnicodeDecodeError:\n",
    "                        continue\n",
    "                    for w in split_words:\n",
    "                        if full_vocabulary.get(w.lower(), None):\n",
    "                            full_vocabulary[w.lower()] += 1\n",
    "                        else:\n",
    "                            full_vocabulary[w.lower()] = 1\n",
    "\n",
    "                        if file_vocab.get(w.lower(), None):\n",
    "                            file_vocab[w.lower()] += 1\n",
    "                        else:\n",
    "                            file_vocab[w.lower()] = 1\n",
    "                full_file_vocabs.append(file_vocab)\n",
    "        \n",
    "        rows_to_add = [['DOCUMENT', *full_vocabulary.keys()]]\n",
    "        for vocab in full_file_vocabs:\n",
    "            row = [vocab['[[file_path]]']]\n",
    "            for word in full_vocabulary.keys():\n",
    "                if vocab.get(word, None):\n",
    "                    row.append(vocab[word])\n",
    "                else:\n",
    "                    row.append(0)\n",
    "            rows_to_add.append(row)\n",
    "        writer.writerows(rows_to_add)"
   ]
  },
  {
   "cell_type": "code",
   "execution_count": null,
   "id": "33c5e29b",
   "metadata": {},
   "outputs": [],
   "source": [
    "ham_vocabulary, ham_file_vocabs = write_word_vectors('hamvectors.csv', ham_line_paths, 'ham')\n",
    "spam_vocabulary, spam_file_vocabs = write_word_vectors('spamvectors.csv', spam_line_paths, 'spam')"
   ]
  }
 ],
 "metadata": {
  "kernelspec": {
   "display_name": "Python 3 (ipykernel)",
   "language": "python",
   "name": "python3"
  },
  "language_info": {
   "codemirror_mode": {
    "name": "ipython",
    "version": 3
   },
   "file_extension": ".py",
   "mimetype": "text/x-python",
   "name": "python",
   "nbconvert_exporter": "python",
   "pygments_lexer": "ipython3",
   "version": "3.9.6"
  }
 },
 "nbformat": 4,
 "nbformat_minor": 5
}
